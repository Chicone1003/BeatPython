{
 "cells": [
  {
   "cell_type": "markdown",
   "metadata": {
    "collapsed": true
   },
   "source": [
    "# Topic: Accused Witches in Scottland"
   ]
  },
  {
   "cell_type": "markdown",
   "metadata": {},
   "source": [
    "# Describe"
   ]
  },
  {
   "cell_type": "markdown",
   "metadata": {},
   "source": [
    "## What   is   the   general   type   of   the   data ? "
   ]
  },
  {
   "cell_type": "code",
   "execution_count": 11,
   "metadata": {},
   "outputs": [
    {
     "data": {
      "text/html": [
       "<div>\n",
       "<style>\n",
       "    .dataframe thead tr:only-child th {\n",
       "        text-align: right;\n",
       "    }\n",
       "\n",
       "    .dataframe thead th {\n",
       "        text-align: left;\n",
       "    }\n",
       "\n",
       "    .dataframe tbody tr th {\n",
       "        vertical-align: top;\n",
       "    }\n",
       "</style>\n",
       "<table border=\"1\" class=\"dataframe\">\n",
       "  <thead>\n",
       "    <tr style=\"text-align: right;\">\n",
       "      <th></th>\n",
       "      <th>AccusedRef</th>\n",
       "      <th>AccusedSystemId</th>\n",
       "      <th>AccusedID</th>\n",
       "      <th>FirstName</th>\n",
       "      <th>LastName</th>\n",
       "      <th>M_Firstname</th>\n",
       "      <th>M_Surname</th>\n",
       "      <th>Alias</th>\n",
       "      <th>Patronymic</th>\n",
       "      <th>DesTitle</th>\n",
       "      <th>...</th>\n",
       "      <th>Res_NGR_Northing</th>\n",
       "      <th>Ethnic_origin</th>\n",
       "      <th>MaritalStatus</th>\n",
       "      <th>SocioecStatus</th>\n",
       "      <th>Occupation</th>\n",
       "      <th>Notes</th>\n",
       "      <th>Createdby</th>\n",
       "      <th>Createdate</th>\n",
       "      <th>Lastupdatedby</th>\n",
       "      <th>Lastupdatedon</th>\n",
       "    </tr>\n",
       "  </thead>\n",
       "  <tbody>\n",
       "    <tr>\n",
       "      <th>0</th>\n",
       "      <td>A/EGD/10</td>\n",
       "      <td>EGD</td>\n",
       "      <td>10</td>\n",
       "      <td>Mareon</td>\n",
       "      <td>Quheitt</td>\n",
       "      <td>Marion</td>\n",
       "      <td>White</td>\n",
       "      <td>NaN</td>\n",
       "      <td>NaN</td>\n",
       "      <td>NaN</td>\n",
       "      <td>...</td>\n",
       "      <td>NaN</td>\n",
       "      <td>NaN</td>\n",
       "      <td>NaN</td>\n",
       "      <td>NaN</td>\n",
       "      <td>NaN</td>\n",
       "      <td>NaN</td>\n",
       "      <td>SMD</td>\n",
       "      <td>15/05/2001 11:06:51</td>\n",
       "      <td>jhm</td>\n",
       "      <td>09/08/2002 11:40:51</td>\n",
       "    </tr>\n",
       "    <tr>\n",
       "      <th>1</th>\n",
       "      <td>A/EGD/100</td>\n",
       "      <td>EGD</td>\n",
       "      <td>100</td>\n",
       "      <td>Thom</td>\n",
       "      <td>Cockburn</td>\n",
       "      <td>Thomas</td>\n",
       "      <td>Cockburn</td>\n",
       "      <td>NaN</td>\n",
       "      <td>NaN</td>\n",
       "      <td>NaN</td>\n",
       "      <td>...</td>\n",
       "      <td>NaN</td>\n",
       "      <td>NaN</td>\n",
       "      <td>NaN</td>\n",
       "      <td>NaN</td>\n",
       "      <td>NaN</td>\n",
       "      <td>NaN</td>\n",
       "      <td>SMD</td>\n",
       "      <td>15/05/2001 11:06:51</td>\n",
       "      <td>jhm</td>\n",
       "      <td>02/10/2002 10:32:30</td>\n",
       "    </tr>\n",
       "    <tr>\n",
       "      <th>2</th>\n",
       "      <td>A/EGD/1000</td>\n",
       "      <td>EGD</td>\n",
       "      <td>1000</td>\n",
       "      <td>Christian</td>\n",
       "      <td>Aitkenhead</td>\n",
       "      <td>Christine</td>\n",
       "      <td>Aikenhead</td>\n",
       "      <td>NaN</td>\n",
       "      <td>NaN</td>\n",
       "      <td>NaN</td>\n",
       "      <td>...</td>\n",
       "      <td>NaN</td>\n",
       "      <td>NaN</td>\n",
       "      <td>Married</td>\n",
       "      <td>NaN</td>\n",
       "      <td>NaN</td>\n",
       "      <td>NaN</td>\n",
       "      <td>SMD</td>\n",
       "      <td>15/05/2001 11:06:51</td>\n",
       "      <td>jhm</td>\n",
       "      <td>01/10/2002 10:48:12</td>\n",
       "    </tr>\n",
       "    <tr>\n",
       "      <th>3</th>\n",
       "      <td>A/EGD/1001</td>\n",
       "      <td>EGD</td>\n",
       "      <td>1001</td>\n",
       "      <td>Janet</td>\n",
       "      <td>Ireland</td>\n",
       "      <td>Janet</td>\n",
       "      <td>Ireland</td>\n",
       "      <td>NaN</td>\n",
       "      <td>NaN</td>\n",
       "      <td>NaN</td>\n",
       "      <td>...</td>\n",
       "      <td>NaN</td>\n",
       "      <td>NaN</td>\n",
       "      <td>Widowed</td>\n",
       "      <td>NaN</td>\n",
       "      <td>NaN</td>\n",
       "      <td>NaN</td>\n",
       "      <td>SMD</td>\n",
       "      <td>15/05/2001 11:06:51</td>\n",
       "      <td>jhm</td>\n",
       "      <td>01/10/2002 10:49:00</td>\n",
       "    </tr>\n",
       "    <tr>\n",
       "      <th>4</th>\n",
       "      <td>A/EGD/1002</td>\n",
       "      <td>EGD</td>\n",
       "      <td>1002</td>\n",
       "      <td>Agnes</td>\n",
       "      <td>Hendersoun</td>\n",
       "      <td>Agnes</td>\n",
       "      <td>Henderson</td>\n",
       "      <td>NaN</td>\n",
       "      <td>NaN</td>\n",
       "      <td>NaN</td>\n",
       "      <td>...</td>\n",
       "      <td>NaN</td>\n",
       "      <td>NaN</td>\n",
       "      <td>NaN</td>\n",
       "      <td>NaN</td>\n",
       "      <td>NaN</td>\n",
       "      <td>NaN</td>\n",
       "      <td>SMD</td>\n",
       "      <td>15/05/2001 11:06:51</td>\n",
       "      <td>jhm</td>\n",
       "      <td>01/10/2002 10:50:07</td>\n",
       "    </tr>\n",
       "  </tbody>\n",
       "</table>\n",
       "<p>5 rows × 31 columns</p>\n",
       "</div>"
      ],
      "text/plain": [
       "   AccusedRef AccusedSystemId  AccusedID  FirstName    LastName M_Firstname  \\\n",
       "0    A/EGD/10             EGD         10     Mareon     Quheitt      Marion   \n",
       "1   A/EGD/100             EGD        100       Thom    Cockburn      Thomas   \n",
       "2  A/EGD/1000             EGD       1000  Christian  Aitkenhead   Christine   \n",
       "3  A/EGD/1001             EGD       1001      Janet     Ireland       Janet   \n",
       "4  A/EGD/1002             EGD       1002      Agnes  Hendersoun       Agnes   \n",
       "\n",
       "   M_Surname Alias Patronymic DesTitle         ...          Res_NGR_Northing  \\\n",
       "0      White   NaN        NaN      NaN         ...                       NaN   \n",
       "1   Cockburn   NaN        NaN      NaN         ...                       NaN   \n",
       "2  Aikenhead   NaN        NaN      NaN         ...                       NaN   \n",
       "3    Ireland   NaN        NaN      NaN         ...                       NaN   \n",
       "4  Henderson   NaN        NaN      NaN         ...                       NaN   \n",
       "\n",
       "   Ethnic_origin  MaritalStatus  SocioecStatus Occupation Notes Createdby  \\\n",
       "0            NaN            NaN            NaN        NaN   NaN       SMD   \n",
       "1            NaN            NaN            NaN        NaN   NaN       SMD   \n",
       "2            NaN        Married            NaN        NaN   NaN       SMD   \n",
       "3            NaN        Widowed            NaN        NaN   NaN       SMD   \n",
       "4            NaN            NaN            NaN        NaN   NaN       SMD   \n",
       "\n",
       "            Createdate Lastupdatedby        Lastupdatedon  \n",
       "0  15/05/2001 11:06:51           jhm  09/08/2002 11:40:51  \n",
       "1  15/05/2001 11:06:51           jhm  02/10/2002 10:32:30  \n",
       "2  15/05/2001 11:06:51           jhm  01/10/2002 10:48:12  \n",
       "3  15/05/2001 11:06:51           jhm  01/10/2002 10:49:00  \n",
       "4  15/05/2001 11:06:51           jhm  01/10/2002 10:50:07  \n",
       "\n",
       "[5 rows x 31 columns]"
      ]
     },
     "execution_count": 11,
     "metadata": {},
     "output_type": "execute_result"
    }
   ],
   "source": [
    "import pandas as pd\n",
    "\n",
    "data=pd.read_csv(\"WDB_Accused.csv\")\n",
    "data.head()"
   ]
  },
  {
   "cell_type": "markdown",
   "metadata": {},
   "source": [
    "Our group was tabular data of witched accused in form of a csv file, which is one of the relational tables in the whole dataset of witches."
   ]
  },
  {
   "cell_type": "markdown",
   "metadata": {},
   "source": [
    "## Database filed types and meanings"
   ]
  },
  {
   "cell_type": "markdown",
   "metadata": {},
   "source": [
    "Data types in each column:"
   ]
  },
  {
   "cell_type": "code",
   "execution_count": 12,
   "metadata": {},
   "outputs": [
    {
     "data": {
      "text/plain": [
       "AccusedRef           object\n",
       "AccusedSystemId      object\n",
       "AccusedID             int64\n",
       "FirstName            object\n",
       "LastName             object\n",
       "M_Firstname          object\n",
       "M_Surname            object\n",
       "Alias                object\n",
       "Patronymic           object\n",
       "DesTitle             object\n",
       "Sex                  object\n",
       "Age                 float64\n",
       "Age_estcareer          bool\n",
       "Age_estchild           bool\n",
       "Res_settlement       object\n",
       "Res_parish           object\n",
       "Res_presbytery       object\n",
       "Res_county           object\n",
       "Res_burgh            object\n",
       "Res_NGR_Letters      object\n",
       "Res_NGR_Easting     float64\n",
       "Res_NGR_Northing    float64\n",
       "Ethnic_origin        object\n",
       "MaritalStatus        object\n",
       "SocioecStatus        object\n",
       "Occupation           object\n",
       "Notes                object\n",
       "Createdby            object\n",
       "Createdate           object\n",
       "Lastupdatedby        object\n",
       "Lastupdatedon        object\n",
       "dtype: object"
      ]
     },
     "execution_count": 12,
     "metadata": {},
     "output_type": "execute_result"
    }
   ],
   "source": [
    "data.dtypes"
   ]
  },
  {
   "cell_type": "markdown",
   "metadata": {},
   "source": [
    "Some columns'name description:"
   ]
  },
  {
   "cell_type": "markdown",
   "metadata": {},
   "source": [
    "    Age_estcareer          Indicates that age has been estimated from career \n",
    "    Age_estchild           Indicates that age has been estimated from the existence of children \n",
    "\n",
    "    Res_settlement       Place of residence - settlement\n",
    "    Res_parish           Place of residence - parish ",
    "\n",
    "    Res_presbytery       Place of residence - presbytery ",
    "\n",
    "    Res_county           Place of residence - county ",
    "\n",
    "    Res_burgh            Place of residence - burgh ",
    "\n",
    "    \n",
    "    Res_NGR_Letters      Grid reference of place of residence - letters \n",
    "    Res_NGR_Easting    Grid reference of place of residence - easting \n",
    "    Res_NGR_Northing   Grid reference of place of residence - northing \n",
    "\n",
    "    Ethnic_origin        Ethnic origin \n"
   ]
  },
  {
   "cell_type": "markdown",
   "metadata": {},
   "source": [
    "    TRACKING FIELDS: \n",
    "    SYSTEM ID, CREATION LOGS AND OTHER NON-ESSENTIAL FIELDS\n",
    "    \n",
    "    SUBJECTIVE FIELDS BY TABLE:\n",
    "    (Fields for which statistics should be generated cautiously)\n",
    "    ‘WDB_Accused’ Age\n",
    "    Age_estcareer Age_estchild SocioecStatus\n",
    "\n",
    "    DEAD FIELDS TYPES BY TABLE:\n",
    "    (Fields the researchers did not systematically use)\n",
    "    ‘WDB_Accused’ Patronymic\n",
    "    Ethnic_Origin"
   ]
  },
  {
   "cell_type": "markdown",
   "metadata": {},
   "source": [
    "## Database Layout and links   between   this   data   and   other   data  "
   ]
  },
  {
   "cell_type": "markdown",
   "metadata": {},
   "source": [
    "The whole database consists of three levels. Each level contains a series of linked tables, some of which are reference tables that supply set lists of possible data for specific fields. The first level is the accused. The ‘Accused’ is a self-contained set of fields and reference tables that can be searched on its own. The second level is the ‘Case’, comprising all the detail of the accusation. The third level comprises two sets of information that are embedded within the ‘Case’ – the ‘Trial Process’ and ‘References’. Both of these sets of information are in a one-to-many relationship with the ‘Case’. "
   ]
  },
  {
   "cell_type": "markdown",
   "metadata": {},
   "source": [
    "Our data is ‘Accused’ ,which is level one:"
   ]
  },
  {
   "cell_type": "markdown",
   "metadata": {},
   "source": [
    "The ‘Accused’ table contains biographical information about each accused witch. It includes the name, sex, residence, occupation, etc. for each accused in the database. See ‘Database Field Descriptions’ for a full list and description of these fields. The database allows for only one accused level to be defined for each person accused of witchcraft, thus assembling all known references to one individual in their own unique record."
   ]
  },
  {
   "cell_type": "markdown",
   "metadata": {},
   "source": [
    "AccusedRef is the unique identifier of data.There is no foreign keys in this data."
   ]
  },
  {
   "cell_type": "markdown",
   "metadata": {},
   "source": [
    "## Data description"
   ]
  },
  {
   "cell_type": "markdown",
   "metadata": {},
   "source": [
    "How large and complex is it  ?"
   ]
  },
  {
   "cell_type": "code",
   "execution_count": 13,
   "metadata": {},
   "outputs": [
    {
     "data": {
      "text/plain": [
       "(3219, 31)"
      ]
     },
     "execution_count": 13,
     "metadata": {},
     "output_type": "execute_result"
    }
   ],
   "source": [
    "data.shape"
   ]
  },
  {
   "cell_type": "markdown",
   "metadata": {},
   "source": [
    "3219 rows X 31 columns"
   ]
  },
  {
   "cell_type": "code",
   "execution_count": 14,
   "metadata": {},
   "outputs": [
    {
     "data": {
      "text/plain": [
       "99789"
      ]
     },
     "execution_count": 14,
     "metadata": {},
     "output_type": "execute_result"
    }
   ],
   "source": [
    "data.size"
   ]
  },
  {
   "cell_type": "markdown",
   "metadata": {},
   "source": [
    "Statistics  about  the  data : max/min/count/std/variation/structure"
   ]
  },
  {
   "cell_type": "code",
   "execution_count": 15,
   "metadata": {
    "scrolled": false
   },
   "outputs": [
    {
     "data": {
      "text/html": [
       "<div>\n",
       "<style>\n",
       "    .dataframe thead tr:only-child th {\n",
       "        text-align: right;\n",
       "    }\n",
       "\n",
       "    .dataframe thead th {\n",
       "        text-align: left;\n",
       "    }\n",
       "\n",
       "    .dataframe tbody tr th {\n",
       "        vertical-align: top;\n",
       "    }\n",
       "</style>\n",
       "<table border=\"1\" class=\"dataframe\">\n",
       "  <thead>\n",
       "    <tr style=\"text-align: right;\">\n",
       "      <th></th>\n",
       "      <th>AccusedID</th>\n",
       "      <th>Age</th>\n",
       "    </tr>\n",
       "  </thead>\n",
       "  <tbody>\n",
       "    <tr>\n",
       "      <th>count</th>\n",
       "      <td>3219.000000</td>\n",
       "      <td>166.000000</td>\n",
       "    </tr>\n",
       "    <tr>\n",
       "      <th>mean</th>\n",
       "      <td>1732.604536</td>\n",
       "      <td>43.126506</td>\n",
       "    </tr>\n",
       "    <tr>\n",
       "      <th>std</th>\n",
       "      <td>957.172887</td>\n",
       "      <td>14.205919</td>\n",
       "    </tr>\n",
       "    <tr>\n",
       "      <th>min</th>\n",
       "      <td>4.000000</td>\n",
       "      <td>9.000000</td>\n",
       "    </tr>\n",
       "    <tr>\n",
       "      <th>25%</th>\n",
       "      <td>909.500000</td>\n",
       "      <td>34.250000</td>\n",
       "    </tr>\n",
       "    <tr>\n",
       "      <th>50%</th>\n",
       "      <td>1759.000000</td>\n",
       "      <td>45.000000</td>\n",
       "    </tr>\n",
       "    <tr>\n",
       "      <th>75%</th>\n",
       "      <td>2636.500000</td>\n",
       "      <td>50.000000</td>\n",
       "    </tr>\n",
       "    <tr>\n",
       "      <th>max</th>\n",
       "      <td>3244.000000</td>\n",
       "      <td>100.000000</td>\n",
       "    </tr>\n",
       "  </tbody>\n",
       "</table>\n",
       "</div>"
      ],
      "text/plain": [
       "         AccusedID         Age\n",
       "count  3219.000000  166.000000\n",
       "mean   1732.604536   43.126506\n",
       "std     957.172887   14.205919\n",
       "min       4.000000    9.000000\n",
       "25%     909.500000   34.250000\n",
       "50%    1759.000000   45.000000\n",
       "75%    2636.500000   50.000000\n",
       "max    3244.000000  100.000000"
      ]
     },
     "execution_count": 15,
     "metadata": {},
     "output_type": "execute_result"
    }
   ],
   "source": [
    "data.describe()[['AccusedID','Age']]"
   ]
  },
  {
   "cell_type": "markdown",
   "metadata": {},
   "source": [
    "Common Categorical Values:"
   ]
  },
  {
   "cell_type": "code",
   "execution_count": 16,
   "metadata": {
    "scrolled": false
   },
   "outputs": [
    {
     "name": "stdout",
     "output_type": "stream",
     "text": [
      "EGD    2305\n",
      "LA      507\n",
      "JO      407\n",
      "Name: AccusedSystemId, dtype: int64\n",
      "**************************************\n",
      "Female    2702\n",
      "Male       468\n",
      "Name: Sex, dtype: int64\n",
      "**************************************\n",
      "Married            575\n",
      "Widowed            140\n",
      "Single              16\n",
      "Unknown              3\n",
      "Irregular union      2\n",
      "/                    1\n",
      "Name: MaritalStatus, dtype: int64\n",
      "**************************************\n",
      "Middling           231\n",
      "Lower               72\n",
      "Very Poor           18\n",
      "Landless            16\n",
      "Upper               16\n",
      "Lairds/Baron         5\n",
      "Nobility/Chiefs      4\n",
      "Name: SocioecStatus, dtype: int64\n",
      "**************************************\n",
      "Servant           23\n",
      "Vagabond          23\n",
      "Midwife            9\n",
      "Weaver             8\n",
      "Miller             3\n",
      "Shop-keeper        2\n",
      "School teacher     2\n",
      "Farmer             2\n",
      "Tailor             2\n",
      "Messenger          2\n",
      "Minister           2\n",
      "Smith              2\n",
      "Nurse              2\n",
      "Merchant           2\n",
      "Cook               1\n",
      "Collier            1\n",
      "School Master      1\n",
      "Loadman            1\n",
      "Maltman            1\n",
      "Stabler            1\n",
      "Blacksmith         1\n",
      "Mealmaker          1\n",
      "Slaterer           1\n",
      "Sailor             1\n",
      "Tasker             1\n",
      "Healer             1\n",
      "Workman            1\n",
      "Creelman           1\n",
      "Brewster           1\n",
      "Henwife            1\n",
      "Fisherman          1\n",
      "Name: Occupation, dtype: int64\n",
      "**************************************\n"
     ]
    }
   ],
   "source": [
    "col=['AccusedSystemId','Sex','MaritalStatus','SocioecStatus','Occupation']\n",
    "\n",
    "for i in col:\n",
    "    print(data[i].value_counts())\n",
    "    print(\"**************************************\")"
   ]
  },
  {
   "cell_type": "markdown",
   "metadata": {},
   "source": [
    "## The relationship between the data and questions that the data owner has discussed with us"
   ]
  },
  {
   "cell_type": "markdown",
   "metadata": {},
   "source": [
    "1.Create a model for witches by exploring this csv file and looking into example Wikidata items and the list of properties.\n",
    "\n",
    "2.Create that example as a real item of data on Wikidata using the Create New Item option on Wikidata and then arrange that model in Google sheets for the 3000 items we are looking to create.\n",
    "\n",
    "3.Import 3000+ entries into wikidata.\n",
    "\n",
    "4.Visualise the information in a multitude of ways using the SPARQL examples in the Wikidata query service and Histropedia’s Wikidata viewer."
   ]
  },
  {
   "cell_type": "markdown",
   "metadata": {},
   "source": [
    "# Explore "
   ]
  },
  {
   "cell_type": "markdown",
   "metadata": {},
   "source": [
    "How many data are incomplete:"
   ]
  },
  {
   "cell_type": "code",
   "execution_count": 17,
   "metadata": {},
   "outputs": [
    {
     "name": "stdout",
     "output_type": "stream",
     "text": [
      "High five! You successfully sent some data to your account on plotly. View your plot in your browser at https://plot.ly/~chicone1003/0 or inside your plot.ly account where it is named 'stacked-bar'\n"
     ]
    },
    {
     "data": {
      "text/html": [
       "<iframe id=\"igraph\" scrolling=\"no\" style=\"border:none;\" seamless=\"seamless\" src=\"https://plot.ly/~chicone1003/0.embed\" height=\"525px\" width=\"100%\"></iframe>"
      ],
      "text/plain": [
       "<plotly.tools.PlotlyDisplay object>"
      ]
     },
     "execution_count": 17,
     "metadata": {},
     "output_type": "execute_result"
    }
   ],
   "source": [
    "%matplotlib inline\n",
    "import numpy as np\n",
    "import seaborn as sns\n",
    "import matplotlib.pyplot as plt\n",
    "import plotly\n",
    "import plotly.plotly as py\n",
    "import plotly.graph_objs as go\n",
    "import re\n",
    "import pyproj\n",
    "import folium\n",
    "\n",
    "plotly.tools.set_credentials_file(username='chicone1003', api_key='5mMSIppbkvLI8XBzbFg4')\n",
    "\n",
    "\n",
    "notnull=data.count()\n",
    "isnull=data.count().AccusedRef-data.count()\n",
    "nullornot=pd.concat([notnull,isnull],axis=1).reset_index()\n",
    "nullornot.columns=['column','notnullcount','isnullcount']\n",
    "\n",
    "import plotly.plotly as py\n",
    "import plotly.graph_objs as go\n",
    "\n",
    "trace1 = go.Bar(\n",
    "    x=nullornot.column,\n",
    "    y=nullornot.notnullcount,\n",
    "    name='not null'\n",
    ")\n",
    "trace2 = go.Bar(\n",
    "    x=nullornot.column,\n",
    "    y=nullornot.isnullcount,\n",
    "    name='null'\n",
    ")\n",
    "\n",
    "d = [trace1, trace2]\n",
    "layout = go.Layout(\n",
    "    title='Incomplete Data statistics',\n",
    "    barmode='stack'\n",
    ")\n",
    "\n",
    "fig = go.Figure(data=d, layout=layout)\n",
    "py.iplot(fig, filename='stacked-bar')\n",
    "\n"
   ]
  },
  {
   "cell_type": "markdown",
   "metadata": {},
   "source": [
    "The number of witches who were not marked with specific sex:"
   ]
  },
  {
   "cell_type": "markdown",
   "metadata": {},
   "source": [
    "## Sex"
   ]
  },
  {
   "cell_type": "code",
   "execution_count": 18,
   "metadata": {},
   "outputs": [
    {
     "data": {
      "text/plain": [
       "49"
      ]
     },
     "execution_count": 18,
     "metadata": {},
     "output_type": "execute_result"
    }
   ],
   "source": [
    "data.loc[(data.Sex!='Female') & (data.Sex!='Male')].count().AccusedRef"
   ]
  },
  {
   "cell_type": "markdown",
   "metadata": {},
   "source": [
    "Were females witches accused than males witches? What is the difference?"
   ]
  },
  {
   "cell_type": "code",
   "execution_count": 19,
   "metadata": {},
   "outputs": [
    {
     "data": {
      "text/plain": [
       "Sex\n",
       "Female    2702\n",
       "Male       468\n",
       "Name: AccusedRef, dtype: int64"
      ]
     },
     "execution_count": 19,
     "metadata": {},
     "output_type": "execute_result"
    }
   ],
   "source": [
    "gsc=data.groupby('Sex').count()\n",
    "gsc.AccusedRef"
   ]
  },
  {
   "cell_type": "code",
   "execution_count": 20,
   "metadata": {},
   "outputs": [
    {
     "data": {
      "image/png": "[encoded data removed]",
      "text/plain": [
       "<matplotlib.figure.Figure at 0x1144964a8>"
      ]
     },
     "metadata": {},
     "output_type": "display_data"
    }
   ],
   "source": [
    "# Data to plot\n",
    "\n",
    "\n",
    "labels = gsc.T.columns\n",
    "sizes = gsc.AccusedID\n",
    "\n",
    "#explode = (0.1, 0, 0, 0)  # explode 1st slice\n",
    " \n",
    "# Plot\n",
    "plt.figure(figsize=(8,8))\n",
    "plt.pie(sizes, labels=labels, \n",
    "        autopct='%1.1f%%', startangle=150)\n",
    " \n",
    "plt.axis('equal')\n",
    "plt.title('Witches by sex')\n",
    "plt.legend()\n",
    "plt.show()"
   ]
  },
  {
   "cell_type": "markdown",
   "metadata": {},
   "source": [
    "A large propostion of witches are female,but there are also 11.3% of witches are male."
   ]
  },
  {
   "cell_type": "markdown",
   "metadata": {},
   "source": [
    "## Age"
   ]
  },
  {
   "cell_type": "markdown",
   "metadata": {},
   "source": [
    "How many age of witches is null and is not null?"
   ]
  },
  {
   "cell_type": "code",
   "execution_count": 21,
   "metadata": {},
   "outputs": [
    {
     "name": "stdout",
     "output_type": "stream",
     "text": [
      "is null:\n",
      "3053\n",
      "is not null:\n",
      "166\n"
     ]
    }
   ],
   "source": [
    "print(\"is null:\")\n",
    "print(data[pd.isnull(data.Age)].count().AccusedRef)\n",
    "print(\"is not null:\")\n",
    "print(data[~pd.isnull(data.Age)].count().AccusedRef)"
   ]
  },
  {
   "cell_type": "markdown",
   "metadata": {},
   "source": [
    "How many witches has accurate age?(some people's age is estimatied by their child or their career)"
   ]
  },
  {
   "cell_type": "code",
   "execution_count": 22,
   "metadata": {},
   "outputs": [
    {
     "data": {
      "text/plain": [
       "28"
      ]
     },
     "execution_count": 22,
     "metadata": {},
     "output_type": "execute_result"
    }
   ],
   "source": [
    "data[(~data.Age_estcareer)&(~data.Age_estchild)&(~pd.isnull(data.Age))].count().AccusedRef"
   ]
  },
  {
   "cell_type": "markdown",
   "metadata": {},
   "source": [
    "The distribution of witches'age:"
   ]
  },
  {
   "cell_type": "code",
   "execution_count": 23,
   "metadata": {
    "scrolled": false
   },
   "outputs": [
    {
     "data": {
      "image/png": "[encoded data removed]",
      "text/plain": [
       "<matplotlib.figure.Figure at 0x1149ab320>"
      ]
     },
     "metadata": {},
     "output_type": "display_data"
    },
    {
     "data": {
      "image/png": "[encoded data removed]",
      "text/plain": [
       "<matplotlib.figure.Figure at 0x1149e86a0>"
      ]
     },
     "metadata": {},
     "output_type": "display_data"
    }
   ],
   "source": [
    "dataAge=data[~pd.isnull(data.Age)]\n",
    "\n",
    "sns.distplot(dataAge.Age,color='darkblue',rug=True)\n",
    "plt.title(\"The distribution of ages\")\n",
    "plt.show()\n",
    "\n",
    "\n",
    "sns.distplot(dataAge[dataAge.Sex=='Female'].Age,color='red',label='Female')\n",
    "sns.distplot(dataAge[dataAge.Sex=='Male'].Age,color='green',label='Male')\n",
    "plt.legend()\n",
    "plt.title(\"The distribution of ages by sex\")\n",
    "plt.show()"
   ]
  },
  {
   "cell_type": "code",
   "execution_count": 24,
   "metadata": {},
   "outputs": [
    {
     "data": {
      "text/plain": [
       "<matplotlib.axes._subplots.AxesSubplot at 0x114a97828>"
      ]
     },
     "execution_count": 24,
     "metadata": {},
     "output_type": "execute_result"
    },
    {
     "data": {
      "image/png": "[encoded data removed]",
      "text/plain": [
       "<matplotlib.figure.Figure at 0x1119f3c50>"
      ]
     },
     "metadata": {},
     "output_type": "display_data"
    }
   ],
   "source": [
    "sns.boxplot(x='Sex',y='Age',data=data)"
   ]
  },
  {
   "cell_type": "markdown",
   "metadata": {
    "collapsed": true
   },
   "source": [
    "For both female witches and male witches,most of them were 40-60 years old.\n",
    "And for male witches, there are also a relatively high proportion among 10-20 years old.\n",
    "And one of the witches were 100 years old."
   ]
  },
  {
   "cell_type": "markdown",
   "metadata": {},
   "source": [
    "## Socio-economic status"
   ]
  },
  {
   "cell_type": "markdown",
   "metadata": {},
   "source": [
    "Which socio-economic status is the most in this form?"
   ]
  },
  {
   "cell_type": "code",
   "execution_count": 25,
   "metadata": {
    "scrolled": true
   },
   "outputs": [
    {
     "data": {
      "text/plain": [
       "SocioecStatus\n",
       "Lairds/Baron         5\n",
       "Landless            16\n",
       "Lower               72\n",
       "Middling           231\n",
       "Nobility/Chiefs      4\n",
       "Upper               16\n",
       "Very Poor           18\n",
       "Name: AccusedRef, dtype: int64"
      ]
     },
     "execution_count": 25,
     "metadata": {},
     "output_type": "execute_result"
    }
   ],
   "source": [
    "ssdata=data\n",
    "ss=ssdata.groupby('SocioecStatus').count()\n",
    "ss.AccusedRef"
   ]
  },
  {
   "cell_type": "code",
   "execution_count": 26,
   "metadata": {},
   "outputs": [
    {
     "data": {
      "text/html": [
       "<iframe id=\"igraph\" scrolling=\"no\" style=\"border:none;\" seamless=\"seamless\" src=\"https://plot.ly/~chicone1003/2.embed\" height=\"525px\" width=\"100%\"></iframe>"
      ],
      "text/plain": [
       "<plotly.tools.PlotlyDisplay object>"
      ]
     },
     "execution_count": 26,
     "metadata": {},
     "output_type": "execute_result"
    }
   ],
   "source": [
    "labels = ss.T.columns\n",
    "values = ss.AccusedRef\n",
    "\n",
    "trace = go.Pie(labels=labels, values=values)\n",
    "\n",
    "layout = go.Layout(\n",
    "    title='Proportion of different socio-economic status among witches'\n",
    "    #barmode='stack'\n",
    ")\n",
    "\n",
    "py.iplot([trace],layout=layout, filename='basic_pie_chart')\n"
   ]
  },
  {
   "cell_type": "code",
   "execution_count": 27,
   "metadata": {},
   "outputs": [
    {
     "data": {
      "text/html": [
       "<iframe id=\"igraph\" scrolling=\"no\" style=\"border:none;\" seamless=\"seamless\" src=\"https://plot.ly/~chicone1003/2.embed\" height=\"525px\" width=\"100%\"></iframe>"
      ],
      "text/plain": [
       "<plotly.tools.PlotlyDisplay object>"
      ]
     },
     "execution_count": 27,
     "metadata": {},
     "output_type": "execute_result"
    }
   ],
   "source": [
    "#print(ss.iloc[0].AccusedRef )\n",
    "\n",
    "#ss.reset_index()\n",
    "\n",
    "nnrc=ss.iloc[1].AccusedRef+ss.iloc[2].AccusedRef+ss.iloc[6].AccusedRef+ss.iloc[3].AccusedRef\n",
    "#print(nrc)\n",
    "rrc=ss.iloc[0].AccusedRef+ss.iloc[5].AccusedRef\n",
    "ooc=ss.iloc[4].AccusedRef\n",
    "#+ss.loc[ss.SocioecStatus=='Very Poor'].AccusedRef\n",
    "\n",
    "\n",
    "\n",
    "labels = ['not rich','rich','other']\n",
    "values=[nnrc,rrc,ooc]\n",
    "trace = go.Pie(labels=labels, values=values)\n",
    "\n",
    "\n",
    "\n",
    "py.iplot([trace],layout=layout, filename='basic_pie_chart')"
   ]
  },
  {
   "cell_type": "code",
   "execution_count": 28,
   "metadata": {},
   "outputs": [
    {
     "data": {
      "text/plain": [
       "<matplotlib.axes._subplots.AxesSubplot at 0x119c74c18>"
      ]
     },
     "execution_count": 28,
     "metadata": {},
     "output_type": "execute_result"
    },
    {
     "data": {
      "image/png": "[encoded data removed]",
      "text/plain": [
       "<matplotlib.figure.Figure at 0x119e740b8>"
      ]
     },
     "metadata": {},
     "output_type": "display_data"
    }
   ],
   "source": [
    "#sns.boxplot(x='SocioecStatus',y='Age',hue='Sex',data=data,palette='Set3')\n",
    "plt.figure(figsize=(10,5))\n",
    "sns.countplot(x=\"SocioecStatus\",hue='Sex' ,data=data,palette='Set1')"
   ]
  },
  {
   "cell_type": "markdown",
   "metadata": {},
   "source": [
    "From piecharts:\n",
    "\n",
    "    Most of witches are middling class,the percentage of which takes up 63.8%.\n",
    "\n",
    "    The people who are not rich (including Landless,Lower,Very Poor,Middling) occupies 93.1% of whole witches in our data.The rich (including upper and landless )only takes up 5.8%.\n",
    "\n",
    "    Landless takes up more than landless\n",
    "\n",
    "    Lower and middling takes up more than upper\n",
    "    \n",
    "From barchart:\n",
    "\n",
    "    Female witches and male witches has the similar distribution among different Socio-economic status.However,the number of male witches who are upper status is smallest.For female witches,very poor witches occupies smallest proportion."
   ]
  },
  {
   "cell_type": "markdown",
   "metadata": {},
   "source": [
    "## Marital status"
   ]
  },
  {
   "cell_type": "code",
   "execution_count": 29,
   "metadata": {},
   "outputs": [
    {
     "data": {
      "text/plain": [
       "MaritalStatus\n",
       "Irregular union      2\n",
       "Married            575\n",
       "Single              16\n",
       "Widowed            140\n",
       "Name: AccusedRef, dtype: int64"
      ]
     },
     "execution_count": 29,
     "metadata": {},
     "output_type": "execute_result"
    }
   ],
   "source": [
    "ndf=data\n",
    "ndf.drop(ndf.index[ndf['MaritalStatus'].isnull()],inplace=True)\n",
    "ndf.drop(ndf.index[ndf['MaritalStatus']=='/'],inplace=True)\n",
    "ndf.drop(ndf.index[ndf['MaritalStatus']=='Unknown'],inplace=True)\n",
    "ms=ndf.groupby('MaritalStatus').count()\n",
    "\n",
    "#data['MaritalStatus'].replace(('/','Unknown'),(None,None),inplace=True)\n",
    "ms.AccusedRef"
   ]
  },
  {
   "cell_type": "code",
   "execution_count": 30,
   "metadata": {},
   "outputs": [
    {
     "data": {
      "text/html": [
       "<iframe id=\"igraph\" scrolling=\"no\" style=\"border:none;\" seamless=\"seamless\" src=\"https://plot.ly/~chicone1003/2.embed\" height=\"525px\" width=\"100%\"></iframe>"
      ],
      "text/plain": [
       "<plotly.tools.PlotlyDisplay object>"
      ]
     },
     "execution_count": 30,
     "metadata": {},
     "output_type": "execute_result"
    }
   ],
   "source": [
    "labels = ms.T.columns\n",
    "values = ms.AccusedRef\n",
    "\n",
    "trace = go.Pie(labels=labels, values=values)\n",
    "\n",
    "py.iplot([trace], filename='basic_pie_chart')"
   ]
  },
  {
   "cell_type": "code",
   "execution_count": 31,
   "metadata": {},
   "outputs": [
    {
     "data": {
      "text/plain": [
       "<matplotlib.axes._subplots.AxesSubplot at 0x1a1dfe6b70>"
      ]
     },
     "execution_count": 31,
     "metadata": {},
     "output_type": "execute_result"
    },
    {
     "data": {
      "image/png": "[encoded data removed]",
      "text/plain": [
       "<matplotlib.figure.Figure at 0x119cb30f0>"
      ]
     },
     "metadata": {},
     "output_type": "display_data"
    }
   ],
   "source": [
    "#sns.boxplot(x='SocioecStatus',y='Age',hue='Sex',data=data,palette='Set3')\n",
    "#colors = [\"amber\", \"dusty purple\"]\n",
    "plt.figure(figsize=(10,5))\n",
    "#sns.countplot(x=\"MaritalStatus\",hue='Sex' ,data=ndf,palette='Set1')\n",
    "plt.title(\"Different maritalsatus of witches by sex\")\n",
    "\n",
    "sns.swarmplot(x=\"MaritalStatus\",y='Age',hue='Sex' ,data=data,palette='Set1')\n",
    "#sns.stripplot(x=\"SocioecStatus\",y='Age',hue='Sex' ,data=data,palette='Set1');"
   ]
  },
  {
   "cell_type": "markdown",
   "metadata": {},
   "source": [
    "The piechart shows 78.4% of witches are married,followed by widowed witches of which the percentage is 19.1%.\n",
    "\n",
    "The barchart illustrates no matter witches are female or male,most of them are married."
   ]
  },
  {
   "cell_type": "markdown",
   "metadata": {},
   "source": [
    "## Occupations"
   ]
  },
  {
   "cell_type": "code",
   "execution_count": 32,
   "metadata": {},
   "outputs": [
    {
     "data": {
      "text/plain": [
       "Text(0.5,1,'Different occupations of witches by sex')"
      ]
     },
     "execution_count": 32,
     "metadata": {},
     "output_type": "execute_result"
    },
    {
     "data": {
      "image/png": "[encoded data removed]",
      "text/plain": [
       "<matplotlib.figure.Figure at 0x1a1e019a58>"
      ]
     },
     "metadata": {},
     "output_type": "display_data"
    }
   ],
   "source": [
    "plt.figure(figsize=(20,10))\n",
    "sns.countplot(x=\"Occupation\",hue='Sex' ,data=ndf,palette='Set1')\n",
    "plt.title(\"Different occupations of witches by sex\")"
   ]
  },
  {
   "cell_type": "markdown",
   "metadata": {},
   "source": [
    "Most of female witches did not have occupations.Some of them were working at service industry.\n",
    "Although there are male witches working as minister,most of them worked at ground level."
   ]
  },
  {
   "cell_type": "markdown",
   "metadata": {},
   "source": [
    "## Geographic location"
   ]
  },
  {
   "cell_type": "code",
   "execution_count": 33,
   "metadata": {},
   "outputs": [
    {
     "data": {
      "image/png": "[encoded data removed]",
      "text/plain": [
       "<matplotlib.figure.Figure at 0x1a1e1b89e8>"
      ]
     },
     "metadata": {},
     "output_type": "display_data"
    }
   ],
   "source": [
    "sns.set(style=\"white\") \n",
    "sns.set(style=\"whitegrid\")\n",
    "plt.figure(figsize=(10,10))\n",
    "ax = sns.countplot(y='Res_county',data=data,order = data['Res_county'].value_counts().index,palette='GnBu_d')"
   ]
  },
  {
   "cell_type": "code",
   "execution_count": 34,
   "metadata": {
    "scrolled": false
   },
   "outputs": [
    {
     "data": {
      "text/html": [
       "<iframe id=\"igraph\" scrolling=\"no\" style=\"border:none;\" seamless=\"seamless\" src=\"https://plot.ly/~chicone1003/4.embed\" height=\"525px\" width=\"100%\"></iframe>"
      ],
      "text/plain": [
       "<plotly.tools.PlotlyDisplay object>"
      ]
     },
     "execution_count": 34,
     "metadata": {},
     "output_type": "execute_result"
    }
   ],
   "source": [
    "import re\n",
    "a=data[['SocioecStatus','Res_county']]\n",
    "\n",
    "a.fillna('unknown')\n",
    "\n",
    "ss=a.SocioecStatus.value_counts().reset_index()\n",
    "ss.columns=['SocioecStatus','count']\n",
    "ssn=ss.SocioecStatus\n",
    "\n",
    "rc=a.Res_county.value_counts().reset_index()\n",
    "rc.columns=['Res_county','count']\n",
    "rcn=rc.Res_county\n",
    "\n",
    "z = []\n",
    "\n",
    "for s in ssn:\n",
    "    new_row = []\n",
    "    for r in rcn:\n",
    "        number=data[(data.SocioecStatus==s )&(data.Res_county==r)].count().AccusedRef\n",
    "        new_row.append(number)\n",
    "\n",
    "    z.append(list(new_row))\n",
    "\n",
    "dd = [\n",
    "go.Heatmap(\n",
    "        z=z,\n",
    "        x=rcn,\n",
    "        y=ssn,\n",
    "        colorscale='Viridis',\n",
    "    )\n",
    "]\n",
    "\n",
    "layout = go.Layout(\n",
    "    title='Different counties and different socie-econmic status',\n",
    "    xaxis = dict(ticks='', nticks=36),\n",
    "    yaxis = dict(ticks='' )\n",
    ")\n",
    "\n",
    "fig = go.Figure(data=dd, layout=layout)\n",
    "py.iplot(fig)"
   ]
  },
  {
   "cell_type": "code",
   "execution_count": 35,
   "metadata": {},
   "outputs": [
    {
     "name": "stderr",
     "output_type": "stream",
     "text": [
      "/Users/wangyi/anaconda3/lib/python3.6/site-packages/ipykernel_launcher.py:10: SettingWithCopyWarning:\n",
      "\n",
      "\n",
      "A value is trying to be set on a copy of a slice from a DataFrame.\n",
      "Try using .loc[row_indexer,col_indexer] = value instead\n",
      "\n",
      "See the caveats in the documentation: http://pandas.pydata.org/pandas-docs/stable/indexing.html#indexing-view-versus-copy\n",
      "\n"
     ]
    }
   ],
   "source": [
    "\n",
    "placedata=data[['Res_NGR_Letters','Res_NGR_Easting','Res_NGR_Northing','Res_county']]\n",
    "\n",
    "newplacedata=placedata.dropna()\n",
    "\n",
    "newstring= []\n",
    "for ind,val in newplacedata.iterrows():\n",
    "    newstring.append(val['Res_NGR_Letters'] + str(int(val['Res_NGR_Easting'])).zfill(3) + str(int(val['Res_NGR_Northing'])).zfill(3))\n",
    "\n",
    "newplacedata['NGR'] = newstring\n",
    "#newplacedata"
   ]
  },
  {
   "cell_type": "code",
   "execution_count": 36,
   "metadata": {},
   "outputs": [
    {
     "data": {
      "text/html": [
       "<div>\n",
       "<style>\n",
       "    .dataframe thead tr:only-child th {\n",
       "        text-align: right;\n",
       "    }\n",
       "\n",
       "    .dataframe thead th {\n",
       "        text-align: left;\n",
       "    }\n",
       "\n",
       "    .dataframe tbody tr th {\n",
       "        vertical-align: top;\n",
       "    }\n",
       "</style>\n",
       "<table border=\"1\" class=\"dataframe\">\n",
       "  <thead>\n",
       "    <tr style=\"text-align: right;\">\n",
       "      <th></th>\n",
       "      <th>NGR</th>\n",
       "      <th>count</th>\n",
       "    </tr>\n",
       "  </thead>\n",
       "  <tbody>\n",
       "    <tr>\n",
       "      <th>0</th>\n",
       "      <td>NH512413</td>\n",
       "      <td>4</td>\n",
       "    </tr>\n",
       "    <tr>\n",
       "      <th>1</th>\n",
       "      <td>NH576495</td>\n",
       "      <td>2</td>\n",
       "    </tr>\n",
       "    <tr>\n",
       "      <th>2</th>\n",
       "      <td>NH605894</td>\n",
       "      <td>1</td>\n",
       "    </tr>\n",
       "    <tr>\n",
       "      <th>3</th>\n",
       "      <td>NH779820</td>\n",
       "      <td>1</td>\n",
       "    </tr>\n",
       "    <tr>\n",
       "      <th>4</th>\n",
       "      <td>NH790670</td>\n",
       "      <td>2</td>\n",
       "    </tr>\n",
       "    <tr>\n",
       "      <th>5</th>\n",
       "      <td>NJ883645</td>\n",
       "      <td>6</td>\n",
       "    </tr>\n",
       "    <tr>\n",
       "      <th>6</th>\n",
       "      <td>NO600500</td>\n",
       "      <td>2</td>\n",
       "    </tr>\n",
       "    <tr>\n",
       "      <th>7</th>\n",
       "      <td>NS850050</td>\n",
       "      <td>1</td>\n",
       "    </tr>\n",
       "    <tr>\n",
       "      <th>8</th>\n",
       "      <td>NT090874</td>\n",
       "      <td>6</td>\n",
       "    </tr>\n",
       "    <tr>\n",
       "      <th>9</th>\n",
       "      <td>NT130829</td>\n",
       "      <td>1</td>\n",
       "    </tr>\n",
       "    <tr>\n",
       "      <th>10</th>\n",
       "      <td>NT169838</td>\n",
       "      <td>1</td>\n",
       "    </tr>\n",
       "    <tr>\n",
       "      <th>11</th>\n",
       "      <td>NT400730</td>\n",
       "      <td>13</td>\n",
       "    </tr>\n",
       "    <tr>\n",
       "      <th>12</th>\n",
       "      <td>NT410750</td>\n",
       "      <td>2</td>\n",
       "    </tr>\n",
       "    <tr>\n",
       "      <th>13</th>\n",
       "      <td>NT670780</td>\n",
       "      <td>7</td>\n",
       "    </tr>\n",
       "  </tbody>\n",
       "</table>\n",
       "</div>"
      ],
      "text/plain": [
       "         NGR  count\n",
       "0   NH512413      4\n",
       "1   NH576495      2\n",
       "2   NH605894      1\n",
       "3   NH779820      1\n",
       "4   NH790670      2\n",
       "5   NJ883645      6\n",
       "6   NO600500      2\n",
       "7   NS850050      1\n",
       "8   NT090874      6\n",
       "9   NT130829      1\n",
       "10  NT169838      1\n",
       "11  NT400730     13\n",
       "12  NT410750      2\n",
       "13  NT670780      7"
      ]
     },
     "execution_count": 36,
     "metadata": {},
     "output_type": "execute_result"
    }
   ],
   "source": [
    "groupngr=newplacedata.groupby('NGR').Res_NGR_Letters.count().reset_index()\n",
    "groupngr.columns=['NGR','count']\n",
    "groupngr"
   ]
  },
  {
   "cell_type": "code",
   "execution_count": 37,
   "metadata": {
    "collapsed": true
   },
   "outputs": [],
   "source": [
    "countyname=[]\n",
    "for i,val in groupngr.iterrows():\n",
    "    ngr=val.NGR\n",
    "    ff=newplacedata[newplacedata.NGR==ngr].Res_county\n",
    "    countyname.append(ff.iloc[0])\n",
    "        "
   ]
  },
  {
   "cell_type": "code",
   "execution_count": 38,
   "metadata": {
    "collapsed": true
   },
   "outputs": [],
   "source": [
    "\n",
    "\n",
    "import re\n",
    "\n",
    "# Region codes for 100 km grid squares.\n",
    "_regions = [['HL', 'HM', 'HN', 'HO', 'HP', 'JL', 'JM'],\n",
    "            ['HQ', 'HR', 'HS', 'HT', 'HU', 'JQ', 'JR'],\n",
    "            ['HV', 'HW', 'HX', 'HY', 'HZ', 'JV', 'JW'],\n",
    "            ['NA', 'NB', 'NC', 'ND', 'NE', 'OA', 'OB'],\n",
    "            ['NF', 'NG', 'NH', 'NJ', 'NK', 'OF', 'OG'],\n",
    "            ['NL', 'NM', 'NN', 'NO', 'NP', 'OL', 'OM'],\n",
    "            ['NQ', 'NR', 'NS', 'NT', 'NU', 'OQ', 'OR'],\n",
    "            ['NV', 'NW', 'NX', 'NY', 'NZ', 'OV', 'OW'],\n",
    "            ['SA', 'SB', 'SC', 'SD', 'SE', 'TA', 'TB'],\n",
    "            ['SF', 'SG', 'SH', 'SJ', 'SK', 'TF', 'TG'],\n",
    "            ['SL', 'SM', 'SN', 'SO', 'SP', 'TL', 'TM'],\n",
    "            ['SQ', 'SR', 'SS', 'ST', 'SU', 'TQ', 'TR'],\n",
    "            ['SV', 'SW', 'SX', 'SY', 'SZ', 'TV', 'TW']]\n",
    "# Reshuffle so indices correspond to offsets\n",
    "_regions = np.array([_regions[x] for x in range(12, -1, -1)])\n",
    "_regions = _regions.transpose()\n",
    "\n",
    "\n",
    "# -------------------------------------------------------------------------------\n",
    "def to_osgb36(coords):\n",
    "    \n",
    "    if type(coords) == list:\n",
    "        return [to_osgb36(c) for c in coords]\n",
    "    elif type(coords) == tuple:\n",
    "        return tuple([to_osgb36(c) for c in coords])\n",
    "    elif type(coords) == type(np.array('string')):\n",
    "        return np.array([to_osgb36(str(c)) for c in list(coords)])\n",
    "    #\n",
    "    # Input is grid reference...\n",
    "    #\n",
    "    elif type(coords) == str and re.match(r'^[A-Za-z]{2}(\\d{6}|\\d{8}|\\d{10})$', coords):\n",
    "        region = coords[0:2].upper()\n",
    "        x_box, y_box = np.where(_regions == region)\n",
    "        try:  # Catch bad region codes\n",
    "            x_offset = 100000 * x_box[0]  # Convert index in 'regions' to offset\n",
    "            y_offset = 100000 * y_box[0]\n",
    "        except IndexError:\n",
    "            raise ValueError('Invalid 100km grid square code')\n",
    "        nDigits = (len(coords) - 2) / 2\n",
    "        factor = 10 ** (5 - nDigits)\n",
    "        x, y = (int(coords[2:2 + int(nDigits)]) * factor + x_offset,\n",
    "                int(coords[2 + int(nDigits):2 + 2 * int(nDigits)]) * factor + y_offset)\n",
    "    \n",
    "        return x, y\n",
    "    #\n",
    "    # Catch invalid input\n",
    "    #\n",
    "    else:\n",
    "        raise TypeError(\n",
    "            'Valid inputs are 6,8 or 10-fig references as strings e.g. \"NN123321\", or lists/tuples/arrays of strings.')\n",
    "\n",
    "\n",
    "\n"
   ]
  },
  {
   "cell_type": "code",
   "execution_count": 39,
   "metadata": {
    "collapsed": true
   },
   "outputs": [],
   "source": [
    "import pyproj\n",
    "\n",
    "\n",
    "\n",
    "sn2004 = pyproj.Proj(\n",
    "    \"+proj=lcc +lat_1=64.25 +lat_2=65.75 +lat_0=65 +lon_0=-19 +x_0=1700000 +y_0=300000 +no_defs +a=6378137 +rf=298.257222101 +to_meter=1\")\n",
    "\n",
    "\n",
    "wgs84 = pyproj.Proj(\"+init=EPSG:4326\")  # LatLon with WGS84 datum used by GPS units and Google Earth\n",
    "osgb36 = pyproj.Proj(\"+init=EPSG:27700\")  # UK Ordnance Survey, 1936 datum\n",
    "UTM26N = pyproj.Proj(\"+init=EPSG:32626\")  # UTM coords, zone 26N, WGS84 datum\n",
    "UTM27N = pyproj.Proj(\"+init=EPSG:32627\")  # UTM coords, zone 27N, WGS84 datum\n",
    "UTM28N = pyproj.Proj(\"+init=EPSG:32628\")  # ... you get the picture\n"
   ]
  },
  {
   "cell_type": "code",
   "execution_count": 40,
   "metadata": {
    "collapsed": true
   },
   "outputs": [],
   "source": [
    "lon=[]\n",
    "la=[]\n",
    "for ind,val in groupngr.iterrows():\n",
    "    x, y = to_osgb36(val.NGR)\n",
    "    Longitude,Latitude=pyproj.transform(osgb36, wgs84, x, y)\n",
    "    lon.append(Longitude)\n",
    "    la.append(Latitude)"
   ]
  },
  {
   "cell_type": "code",
   "execution_count": 41,
   "metadata": {
    "scrolled": true
   },
   "outputs": [
    {
     "data": {
      "text/html": [
       "<div style=\"width:100%;\"><div style=\"position:relative;width:100%;height:0;padding-bottom:60%;\"><iframe src=\"data:text/html;charset=utf-8;base64,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\" style=\"position:absolute;width:100%;height:100%;left:0;top:0;border:none !important;\" allowfullscreen webkitallowfullscreen mozallowfullscreen></iframe></div></div>"
      ],
      "text/plain": [
       "<folium.folium.Map at 0x1144b14a8>"
      ]
     },
     "execution_count": 41,
     "metadata": {},
     "output_type": "execute_result"
    }
   ],
   "source": [
    "\n",
    "import folium\n",
    "\n",
    "\n",
    "\n",
    "m = folium.Map(location=[57.190300, -3.818836], tiles=\"Mapbox Bright\", zoom_start=7)\n",
    "\n",
    "\n",
    "for i in range(0,len(la)):\n",
    "    folium.Circle(\n",
    "    location=[la[i], lon[i]],\n",
    "    popup=countyname[i]+''+str(groupngr.iloc[i]['count']),\n",
    "    radius=float(groupngr.iloc[i]['count']*1000),\n",
    "    color='crimson',\n",
    "    fill=True,\n",
    "    fill_color='crimson'\n",
    "    ).add_to(m)\n",
    "\n",
    "\n",
    "m.save('313_bubble_on_folium_map1.html')\n",
    "m"
   ]
  },
  {
   "cell_type": "markdown",
   "metadata": {},
   "source": [
    "From this figures above,we could see most of witches lived around Haddington and Edinburgh.\n",
    "\n",
    "And also most of them are in middling and lower class"
   ]
  },
  {
   "cell_type": "markdown",
   "metadata": {
    "collapsed": true
   },
   "source": [
    "# Reflect   and   Hypothesise:    "
   ]
  },
  {
   "cell_type": "markdown",
   "metadata": {},
   "source": [
    "## Reflection"
   ]
  },
  {
   "cell_type": "markdown",
   "metadata": {},
   "source": [
    "    For this file, I firstly used stacked-bar to explore incompleteness of our data, and I found there are too many blank(Nan value)in our file that it not permitted us to clean all the rows with any nan data. So, I decided not to clean them from beginning, but to clean every column when I use them to analysis.\n",
    "\n",
    "    Actually, only one column called Age has digital value, which could be used directly in analysis and data visualization. The other information is displayed in form of string. To deal with relationship among string values, we need to reprocess data. The most common way is to count the number of different values in the same columns. Besides, selecting a readable and proper visualization form for string values are also easy for us to explore their relationship. I used heat map to find the connection between socio-economic status and the county of residence of witches.\n",
    "\n",
    "    Although this data file provides us geographic information of some witches, but it is in form of UK national grid map reference. To visualize them, I spent much time transferring the NGR into longitude and latitude which could be used in world maps. In order to show how many witches in different places, I chose the bubble map to use circles weighing the number of witches in the map, which helps us to see the distribution of witches clearly.\n",
    "\n",
    "    This topic accused witches is the social and cultural context of European, which I am not familiar with. So, I read more articles and literature to explore their stories and their regulation at that time, which helped me understand the result of data analysis.\n"
   ]
  },
  {
   "cell_type": "markdown",
   "metadata": {},
   "source": [
    "## Hypothesis"
   ]
  },
  {
   "cell_type": "markdown",
   "metadata": {},
   "source": [
    "1.\n",
    "\n",
    "Some witch hunts did almost exclusively target women, in percentages as high as 85.2% of the victims. \n",
    "\n",
    "Because women have been subordinated to men at that time and the legal system its \"judges, ministers, priests, constables, jailers, judges, doctors, torturers, jurors, executioners\" were nearly 100 percent male. Many witch hunters held that women were far more susceptible to temptation by the Devil, and thus more frequently became witches. For thousands of years, people have believed women to be more susceptible to sins than men, and sinning is a clear indication of devil worship.\n",
    "\n",
    "To test this, I need to explore more literature, ask some local people about witches, talk with students or professors in history major and visit places relating to witch hunt.\n",
    "\n",
    "2.\n",
    "\n",
    "Most of witches were married (78.4%) or widowed (19.1%).\n",
    "\n",
    "When you convict a married woman as having sex with a devil, it is more likely to arouse the anger of the people and make it easier for you to kill any female you want.\n",
    "\n",
    "To test this, I need to learn some cases about accused witches who were married and explored the public reaction of these cases.\n",
    "\n",
    "\n",
    "3.\n",
    "\n",
    "While many witch hunters explicitly went after women, very often men fell victim to the witch hunts.\n",
    "\n",
    "Most of these were older women, with some younger women and men accused because they were related to an accused witch, usually as daughters and husbands. \n",
    "\n",
    "To verify this, I need to look into another data file which recorded accused family see how many husbands of witches were involved and how many male witches are were involved not because of their wives.\n",
    "\n",
    "\n",
    "4.\n",
    "\n",
    "Most of witches accused are middle or lower class or very poor and landless.\n",
    "\n",
    "Being of low status or in some other way marginal made you a prime candidate for being accused of witchcraft in the 17th century, because they were “safe” targets for accusation.\n",
    "\n",
    "To test this, I need to do further studies, ask the data owner, check data individually and link notes of every witches with their economic status.\n"
   ]
  }
 ],
 "metadata": {
  "kernelspec": {
   "display_name": "Python 3",
   "language": "python",
   "name": "python3"
  },
  "language_info": {
   "codemirror_mode": {
    "name": "ipython",
    "version": 3
   },
   "file_extension": ".py",
   "mimetype": "text/x-python",
   "name": "python",
   "nbconvert_exporter": "python",
   "pygments_lexer": "ipython3",
   "version": "3.6.3"
  }
 },
 "nbformat": 4,
 "nbformat_minor": 2
}
